{
 "cells": [
  {
   "cell_type": "markdown",
   "id": "fa5cbad0",
   "metadata": {},
   "source": [
    "# HandWritten Digit Reconization using TensorFlow Datasets"
   ]
  },
  {
   "cell_type": "code",
   "execution_count": 6,
   "id": "f7adca54",
   "metadata": {},
   "outputs": [
    {
     "name": "stdout",
     "output_type": "stream",
     "text": [
      "Collecting tensorflow_datasets==2.1.0\n",
      "  Downloading tensorflow_datasets-2.1.0-py3-none-any.whl (3.1 MB)\n",
      "Requirement already satisfied: attrs>=18.1.0 in c:\\users\\acer\\anaconda3\\lib\\site-packages (from tensorflow_datasets==2.1.0) (21.2.0)\n",
      "Requirement already satisfied: future in c:\\users\\acer\\anaconda3\\lib\\site-packages (from tensorflow_datasets==2.1.0) (0.18.2)\n",
      "Requirement already satisfied: six in c:\\users\\acer\\anaconda3\\lib\\site-packages (from tensorflow_datasets==2.1.0) (1.15.0)\n",
      "Requirement already satisfied: tqdm in c:\\users\\acer\\anaconda3\\lib\\site-packages (from tensorflow_datasets==2.1.0) (4.62.3)\n",
      "Requirement already satisfied: numpy in c:\\users\\acer\\anaconda3\\lib\\site-packages (from tensorflow_datasets==2.1.0) (1.20.3)\n",
      "Collecting promise\n",
      "  Using cached promise-2.3-py3-none-any.whl\n"
     ]
    },
    {
     "name": "stderr",
     "output_type": "stream",
     "text": [
      "  WARNING: Retrying (Retry(total=4, connect=None, read=None, redirect=None, status=None)) after connection broken by 'ConnectTimeoutError(<pip._vendor.urllib3.connection.HTTPSConnection object at 0x00000267ECABCAF0>, 'Connection to files.pythonhosted.org timed out. (connect timeout=15)')': /packages/80/f1/172770d86e8cd3b531b73ccb2ba5cf285ea78937ab857bd958a77ed247e3/tensorflow_datasets-2.1.0-py3-none-any.whl\n",
      "ERROR: Could not install packages due to an OSError: [Errno 13] Permission denied: 'C:\\\\users\\\\acer\\\\appdata\\\\local\\\\pip\\\\cache\\\\wheels\\\\e1\\\\e8\\\\83\\\\ddea66100678d139b14bc87692ece57c6a2a937956d2532608\\\\promise-2.3-py3-none-any.whl'\n",
      "Consider using the `--user` option or check the permissions.\n",
      "\n"
     ]
    }
   ],
   "source": [
    "!pip install tensorflow_datasets==2.1.0"
   ]
  },
  {
   "cell_type": "code",
   "execution_count": 4,
   "id": "7f8c1077",
   "metadata": {},
   "outputs": [
    {
     "ename": "ModuleNotFoundError",
     "evalue": "No module named 'tensorflow_datasets'",
     "output_type": "error",
     "traceback": [
      "\u001b[1;31m---------------------------------------------------------------------------\u001b[0m",
      "\u001b[1;31mModuleNotFoundError\u001b[0m                       Traceback (most recent call last)",
      "\u001b[1;32m~\\AppData\\Local\\Temp/ipykernel_7352/3644417186.py\u001b[0m in \u001b[0;36m<module>\u001b[1;34m\u001b[0m\n\u001b[0;32m      3\u001b[0m \u001b[1;33m\u001b[0m\u001b[0m\n\u001b[0;32m      4\u001b[0m \u001b[1;32mimport\u001b[0m \u001b[0mtensorflow\u001b[0m \u001b[1;32mas\u001b[0m \u001b[0mtf\u001b[0m\u001b[1;33m\u001b[0m\u001b[1;33m\u001b[0m\u001b[0m\n\u001b[1;32m----> 5\u001b[1;33m \u001b[1;32mimport\u001b[0m \u001b[0mtensorflow_datasets\u001b[0m \u001b[1;32mas\u001b[0m \u001b[0mtds\u001b[0m\u001b[1;33m\u001b[0m\u001b[1;33m\u001b[0m\u001b[0m\n\u001b[0m",
      "\u001b[1;31mModuleNotFoundError\u001b[0m: No module named 'tensorflow_datasets'"
     ]
    }
   ],
   "source": [
    "import numpy as np\n",
    "import matplotlib.pyplot as plt\n",
    "\n",
    "import tensorflow as tf\n",
    "import tensorflow_datasets as tds"
   ]
  },
  {
   "cell_type": "code",
   "execution_count": null,
   "id": "c5f7995b",
   "metadata": {},
   "outputs": [],
   "source": []
  }
 ],
 "metadata": {
  "kernelspec": {
   "display_name": "Python 3 (ipykernel)",
   "language": "python",
   "name": "python3"
  },
  "language_info": {
   "codemirror_mode": {
    "name": "ipython",
    "version": 3
   },
   "file_extension": ".py",
   "mimetype": "text/x-python",
   "name": "python",
   "nbconvert_exporter": "python",
   "pygments_lexer": "ipython3",
   "version": "3.9.7"
  }
 },
 "nbformat": 4,
 "nbformat_minor": 5
}
